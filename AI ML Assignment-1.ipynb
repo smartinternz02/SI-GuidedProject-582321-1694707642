{
 "cells": [
  {
   "cell_type": "code",
   "execution_count": 1,
   "metadata": {},
   "outputs": [
    {
     "name": "stdout",
     "output_type": "stream",
     "text": [
      "       Col1      Col2      Col3      Col4\n",
      "0  0.644144       NaN  0.663048       NaN\n",
      "1  0.962608       NaN  0.991751       NaN\n",
      "2  0.585694       NaN       NaN  0.544136\n",
      "3  0.518176  0.766855  0.933850       NaN\n"
     ]
    }
   ],
   "source": [
    "#Task1 Create a pandas dataframe (DataFrame name as 'df') with numpy random values (4 features and 4 observation)\n",
    "import numpy as np\n",
    "import pandas as pd\n",
    "np.random.seed(30)\n",
    "data = np.random.rand(4, 4) \n",
    "data[data < 0.5] = np.nan\n",
    "df = pd.DataFrame(data, columns=['Col1', 'Col2', 'Col3', 'Col4'])\n",
    "print(df)"
   ]
  },
  {
   "cell_type": "code",
   "execution_count": 2,
   "metadata": {},
   "outputs": [
    {
     "name": "stdout",
     "output_type": "stream",
     "text": [
      "   Random value 1  Random value 2  Random value 3  Random value 4\n",
      "0        0.644144             NaN        0.663048             NaN\n",
      "1        0.962608             NaN        0.991751             NaN\n",
      "2        0.585694             NaN             NaN        0.544136\n",
      "3        0.518176        0.766855        0.933850             NaN\n"
     ]
    }
   ],
   "source": [
    "#Task2  Rename the task - 1 'df' dataframe column names to 'Random value 1', 'Random value 2', 'Random value 3' & 'Random value 4'\n",
    "df = df.rename(columns={\n",
    "    'Col1': 'Random value 1',\n",
    "    'Col2': 'Random value 2',\n",
    "    'Col3': 'Random value 3',\n",
    "    'Col4': 'Random value 4'\n",
    "})\n",
    "print(df)"
   ]
  },
  {
   "cell_type": "code",
   "execution_count": 3,
   "metadata": {},
   "outputs": [
    {
     "name": "stdout",
     "output_type": "stream",
     "text": [
      "       Random value 1  Random value 2  Random value 3  Random value 4\n",
      "count        4.000000        1.000000        3.000000        1.000000\n",
      "mean         0.677655        0.766855        0.862883        0.544136\n",
      "std          0.196817             NaN        0.175467             NaN\n",
      "min          0.518176        0.766855        0.663048        0.544136\n",
      "25%          0.568815        0.766855        0.798449        0.544136\n",
      "50%          0.614919        0.766855        0.933850        0.544136\n",
      "75%          0.723760        0.766855        0.962801        0.544136\n",
      "max          0.962608        0.766855        0.991751        0.544136\n"
     ]
    }
   ],
   "source": [
    "#Task3  Find the descriptive statistics of the 'df' dataframe.\n",
    "descriptive_stats = df.describe()\n",
    "print(descriptive_stats)"
   ]
  },
  {
   "cell_type": "code",
   "execution_count": 4,
   "metadata": {},
   "outputs": [
    {
     "name": "stdout",
     "output_type": "stream",
     "text": [
      "Null Values:\n",
      " Random value 1    0\n",
      "Random value 2    3\n",
      "Random value 3    1\n",
      "Random value 4    3\n",
      "dtype: int64\n",
      "\n",
      "Data Types: Random value 1    float64\n",
      "Random value 2    float64\n",
      "Random value 3    float64\n",
      "Random value 4    float64\n",
      "dtype: object\n"
     ]
    }
   ],
   "source": [
    "#Task4  Check for the null values in 'df' and find the data type of the columns.\n",
    "null_values = df.isnull().sum()\n",
    "print(\"Null Values:\\n\", null_values)\n",
    "data_types = df.dtypes\n",
    "print(\"\\nData Types:\", data_types)"
   ]
  },
  {
   "cell_type": "code",
   "execution_count": 5,
   "metadata": {},
   "outputs": [
    {
     "name": "stdout",
     "output_type": "stream",
     "text": [
      "Using loc[] method - 'Random value 2':\n",
      " 0         NaN\n",
      "1         NaN\n",
      "2         NaN\n",
      "3    0.766855\n",
      "Name: Random value 2, dtype: float64\n",
      "\n",
      "Using loc[] method - 'Random value 3':\n",
      " 0    0.663048\n",
      "1    0.991751\n",
      "2         NaN\n",
      "3    0.933850\n",
      "Name: Random value 3, dtype: float64\n",
      "\n",
      "Using iloc[] method - 'Random value 2':\n",
      " 0         NaN\n",
      "1         NaN\n",
      "2         NaN\n",
      "3    0.766855\n",
      "Name: Random value 2, dtype: float64\n",
      "\n",
      "Using iloc[] method - 'Random value 3':\n",
      " 0    0.663048\n",
      "1    0.991751\n",
      "2         NaN\n",
      "3    0.933850\n",
      "Name: Random value 3, dtype: float64\n"
     ]
    }
   ],
   "source": [
    "#Task5  Display the 'Random value 2' & 'Random value 3' columns with location method and index location method.\n",
    "# Using location method\n",
    "random_value_2_loc = df.loc[:, 'Random value 2']\n",
    "random_value_3_loc = df.loc[:, 'Random value 3']\n",
    "print(\"Using loc[] method - 'Random value 2':\\n\", random_value_2_loc)\n",
    "print(\"\\nUsing loc[] method - 'Random value 3':\\n\", random_value_3_loc)\n",
    "# Using index location method\n",
    "random_value_2_iloc = df.iloc[:, 1]\n",
    "random_value_3_iloc = df.iloc[:, 2]\n",
    "print(\"\\nUsing iloc[] method - 'Random value 2':\\n\", random_value_2_iloc)\n",
    "print(\"\\nUsing iloc[] method - 'Random value 3':\\n\", random_value_3_iloc)"
   ]
  },
  {
   "cell_type": "code",
   "execution_count": 6,
   "metadata": {},
   "outputs": [],
   "source": [
    "#GIT link: https://github.com/parnachaudhury/AI-ML/blob/main/AI%20ML%20Assignment-1.ipynb"
   ]
  }
 ],
 "metadata": {
  "kernelspec": {
   "display_name": "Python 3",
   "language": "python",
   "name": "python3"
  },
  "language_info": {
   "codemirror_mode": {
    "name": "ipython",
    "version": 3
   },
   "file_extension": ".py",
   "mimetype": "text/x-python",
   "name": "python",
   "nbconvert_exporter": "python",
   "pygments_lexer": "ipython3",
   "version": "3.11.4"
  },
  "orig_nbformat": 4
 },
 "nbformat": 4,
 "nbformat_minor": 2
}
